{
 "cells": [
  {
   "cell_type": "markdown",
   "metadata": {},
   "source": [
    "# Final Project\n",
    "\n",
    "You will be asked to download data by yourselves and answer several data science questions through this final project. This project has two parts.\n",
    "\n",
    "\n",
    "## Part 1 (15 Points):\n",
    "\n",
    "This part contains 10 different data science questions that you are asked to answer. You need to download the corresponding data and write code to process the data to answer these questions. For each question, you need to provide your code to anser this question, as well as final answers. Each question will be worth 1.5 points in this part. \n",
    "\n",
    "\n",
    "## Final Submission:\n",
    "\n",
    "Your final submission will contain two files:\n",
    "\n",
    "1. The first would be this notebook. You need to provide code for your answers as well as your answers. You also need to provide visualization and executive summary using Markdown in this notebook. \n",
    "\n",
    "2. The second is the html version of this notebook. \n"
   ]
  },
  {
   "cell_type": "markdown",
   "metadata": {},
   "source": [
    "## Part 1\n",
    "\n",
    "First, you need to download the most recent datasets containing listing and reviews in **Los Angeles** from [insidearibnb.com](http://insideairbnb.com/get-the-data.html). (September,2019,detailed data)You will then need to provide the code as well as answers to the following questions.\n",
    "\n",
    "**To make sure that you downloaded the right dataset, your solution to Question 1 should be:**\n",
    "1. **Number of unique listings = 45053**\n",
    "2. **Number of unique hosts = 26286**"
   ]
  },
  {
   "cell_type": "markdown",
   "metadata": {},
   "source": [
    "### Question 1: How many unique listings are there in the LA dataset? How many unique hosts are there?\n",
    "**Question 1 Answer:**\n",
    "\n",
    "There are 45053 unique listings and 26286 unique hosts in the dataset.\n",
    "We put this data under the same file as this final_project Jupyter Notebook. We used read_csv function in pandas to get our data."
   ]
  },
  {
   "cell_type": "code",
   "execution_count": 39,
   "metadata": {},
   "outputs": [
    {
     "data": {
      "text/plain": [
       "[45053, 26286]"
      ]
     },
     "execution_count": 39,
     "metadata": {},
     "output_type": "execute_result"
    }
   ],
   "source": [
    "import pandas as pd\n",
    "df = pd.read_csv(\"listings.csv\")\n",
    "\n",
    "[len(df.id.unique()),len(df.host_id.unique())]"
   ]
  },
  {
   "cell_type": "markdown",
   "metadata": {},
   "source": [
    "### Question 2: What is the mean, median, standard deviation, minimum and maximum of the number of listings per host in LA? (for each host, you only need to consider the listings from LA)\n",
    "**Question 2 Answer:**\n",
    "\n",
    "The mean of the number of listings per host is 1.71. The median is 1. The standard deviation is 2.999. The minimum is 1 and the maximum is 172."
   ]
  },
  {
   "cell_type": "code",
   "execution_count": 2,
   "metadata": {},
   "outputs": [
    {
     "data": {
      "text/plain": [
       "[1.7139541961500417, 1.0, 2.9991833369502245, 1, 172]"
      ]
     },
     "execution_count": 2,
     "metadata": {},
     "output_type": "execute_result"
    }
   ],
   "source": [
    "num_listing = df.groupby(by=[\"host_id\"])[\"id\"].nunique()\n",
    "num_mean = num_listing.mean()\n",
    "num_median = num_listing.median()\n",
    "num_std = num_listing.std()\n",
    "num_min = num_listing.min()\n",
    "num_max = num_listing.max()\n",
    "\n",
    "[num_mean, num_median, num_std, num_min, num_max]"
   ]
  },
  {
   "cell_type": "markdown",
   "metadata": {},
   "source": [
    "### Question 3: What is the average and standard deviation number of listings for a super host versus a non-super host? Does super host or non-super host have more listings on average?\n",
    "**Question 3 Answer:**\n",
    "\n",
    "For superhost, the average number and standard deviation of the number of listings are 1.82 and 3.18 respectively. \n",
    "For non-superhost, the average number and standard deviation of the number of listings are 1.67 and 2.93 respectively.\n",
    "We can tell that superhost does have more listings than non-superhost on average."
   ]
  },
  {
   "cell_type": "code",
   "execution_count": 3,
   "metadata": {},
   "outputs": [
    {
     "data": {
      "text/plain": [
       "[1.8242638078436695, 3.177892161908471, 1.6710213148569313, 2.926275546477842]"
      ]
     },
     "execution_count": 3,
     "metadata": {},
     "output_type": "execute_result"
    }
   ],
   "source": [
    "# You need to provide the code to answer the previous quesiton\n",
    "\n",
    "data = {\"num_listing\":df.groupby(by=[\"host_id\"])[\"id\"].nunique(),\\\n",
    "        \"superhost\":df.groupby(by=[\"host_id\"])[\"host_is_superhost\"].unique()}\n",
    "df2 = pd.DataFrame(data)\n",
    "\n",
    "s_listing=[]\n",
    "ns_listing=[]\n",
    "for host in df2.index:\n",
    "    if df2.loc[host][\"superhost\"]=='t':\n",
    "        s_listing.append(df2.loc[host][\"num_listing\"])\n",
    "    elif df2.loc[host][\"superhost\"]=='f':\n",
    "        ns_listing.append(df2.loc[host][\"num_listing\"])\n",
    "\n",
    "data3 = {\"s_listing\":s_listing}\n",
    "df_superhost = pd.DataFrame(data3)\n",
    "data4 = {\"ns_listing\":ns_listing}\n",
    "df_non_superhost = pd.DataFrame(data4)\n",
    "\n",
    "mean_s = df_superhost[\"s_listing\"].mean()\n",
    "std_s = df_superhost[\"s_listing\"].std()\n",
    "mean_ns = df_non_superhost[\"ns_listing\"].mean()\n",
    "std_ns = df_non_superhost[\"ns_listing\"].std()\n",
    "\n",
    "[mean_s, std_s, mean_ns, std_ns]\n",
    "\n"
   ]
  },
  {
   "cell_type": "markdown",
   "metadata": {},
   "source": [
    "### Question 4: What are the unique types of host verifications are there? (It doesn't matter if you include \"None\" or empty string as a type)\n",
    "**Question 4 Answer:**\n",
    "\n",
    "There are 22 unique types of host verifications. The list of unique types is shown as below."
   ]
  },
  {
   "cell_type": "code",
   "execution_count": 4,
   "metadata": {},
   "outputs": [
    {
     "data": {
      "text/plain": [
       "(['email',\n",
       "  'phone',\n",
       "  'facebook',\n",
       "  'reviews',\n",
       "  'kba',\n",
       "  'jumio',\n",
       "  'government_id',\n",
       "  'offline_government_id',\n",
       "  'selfie',\n",
       "  'identity_manual',\n",
       "  'work_email',\n",
       "  'manual_online',\n",
       "  'manual_offline',\n",
       "  'google',\n",
       "  '',\n",
       "  'sent_id',\n",
       "  'None',\n",
       "  'sesame',\n",
       "  'sesame_offline',\n",
       "  'photographer',\n",
       "  'zhima_selfie',\n",
       "  'weibo'],\n",
       " 22)"
      ]
     },
     "execution_count": 4,
     "metadata": {},
     "output_type": "execute_result"
    }
   ],
   "source": [
    "# You need to provide the code to answer the previous quesiton\n",
    "unique_v = []\n",
    "\n",
    "for n in df[\"host_verifications\"]:\n",
    "    hv = n.strip('[]').split(',')\n",
    "    for m in hv:\n",
    "        sm=m.strip(' ').strip('\\'')\n",
    "        if sm not in unique_v:\n",
    "            unique_v.append(sm)\n",
    "            \n",
    "unique_v, len(unique_v)"
   ]
  },
  {
   "cell_type": "markdown",
   "metadata": {},
   "source": [
    "### Question 5: What are the five most popular verification types of hosts? For each type of the top five verifications, how many percent of hosts verify that type?\n",
    "**Question 5 Answer:**\n",
    "\n",
    "There are 26286 unique hosts in this dataset. We removed the duplicates firstly, then we compute the occurrence of each verification type.\n",
    "The 5 most popular verification types are phone, email, reviews, government_id, and jumio. Around 99.68%, 93.84%, 68.85%, 58.77%, and 43.34% of hosts use those 5 verification types respectively."
   ]
  },
  {
   "cell_type": "code",
   "execution_count": 5,
   "metadata": {},
   "outputs": [
    {
     "data": {
      "text/html": [
       "<div>\n",
       "<style scoped>\n",
       "    .dataframe tbody tr th:only-of-type {\n",
       "        vertical-align: middle;\n",
       "    }\n",
       "\n",
       "    .dataframe tbody tr th {\n",
       "        vertical-align: top;\n",
       "    }\n",
       "\n",
       "    .dataframe thead th {\n",
       "        text-align: right;\n",
       "    }\n",
       "</style>\n",
       "<table border=\"1\" class=\"dataframe\">\n",
       "  <thead>\n",
       "    <tr style=\"text-align: right;\">\n",
       "      <th></th>\n",
       "      <th>Verification type</th>\n",
       "      <th>Amount of hosts</th>\n",
       "      <th>Percentage</th>\n",
       "    </tr>\n",
       "  </thead>\n",
       "  <tbody>\n",
       "    <tr>\n",
       "      <th>0</th>\n",
       "      <td>phone</td>\n",
       "      <td>26201</td>\n",
       "      <td>99.68%</td>\n",
       "    </tr>\n",
       "    <tr>\n",
       "      <th>1</th>\n",
       "      <td>email</td>\n",
       "      <td>24666</td>\n",
       "      <td>93.84%</td>\n",
       "    </tr>\n",
       "    <tr>\n",
       "      <th>2</th>\n",
       "      <td>reviews</td>\n",
       "      <td>18099</td>\n",
       "      <td>68.85%</td>\n",
       "    </tr>\n",
       "    <tr>\n",
       "      <th>3</th>\n",
       "      <td>government_id</td>\n",
       "      <td>15448</td>\n",
       "      <td>58.77%</td>\n",
       "    </tr>\n",
       "    <tr>\n",
       "      <th>4</th>\n",
       "      <td>jumio</td>\n",
       "      <td>11392</td>\n",
       "      <td>43.34%</td>\n",
       "    </tr>\n",
       "  </tbody>\n",
       "</table>\n",
       "</div>"
      ],
      "text/plain": [
       "  Verification type  Amount of hosts Percentage\n",
       "0             phone            26201     99.68%\n",
       "1             email            24666     93.84%\n",
       "2           reviews            18099     68.85%\n",
       "3     government_id            15448     58.77%\n",
       "4             jumio            11392     43.34%"
      ]
     },
     "execution_count": 5,
     "metadata": {},
     "output_type": "execute_result"
    }
   ],
   "source": [
    "# You need to provide the code to answer the previous quesiton\n",
    "\n",
    "df_host = df.drop_duplicates(keep=\"first\",subset=[\"host_id\"])\n",
    "v_type={}\n",
    "for n in (df_host[\"host_verifications\"]):\n",
    "    hv = n.strip('[]').split(',')\n",
    "    for m in hv:\n",
    "        sm=m.strip(' ').strip('\\'')\n",
    "        if sm not in v_type:\n",
    "            v_type[sm]=1\n",
    "        else:\n",
    "            v_type[sm]+=1\n",
    "\n",
    "            \n",
    "v_keys_list=[i for i in v_type.keys()] \n",
    "v_values_list=[j for j in v_type.values()]    \n",
    "df_vhost = pd.DataFrame(columns=[\"Verification type\",\"Amount of hosts\"])\n",
    "df_vhost[\"Verification type\"]=v_keys_list\n",
    "df_vhost[\"Amount of hosts\"]=v_values_list\n",
    "df_vhost.sort_values(by=\"Amount of hosts\",inplace=True,ascending=False)\n",
    "df_vhost.reset_index(drop=True,inplace=True)\n",
    "df_vhost[\"Percentage\"]= df_vhost[\"Amount of hosts\"].\\\n",
    "apply(lambda x: \"{:.2%}\".format(x/df_host.shape[0]))\n",
    "df_vhost.head(5)\n",
    "\n"
   ]
  },
  {
   "cell_type": "markdown",
   "metadata": {},
   "source": [
    "### Question 6: What is the mean, standard deviation of the average price of a listing in Los Angles from 01/01/2020 to 03/01/2020 (inclusive)? (For listings that are not available in this time, you should not count them in the average price.)\n",
    "\n",
    "**Question 6 Answer:**\n",
    "\n",
    "Firstly, we sort out the rows or listing ids that are between those two dates. Then we use \"group by\" to calculate the mean and standard deviation accordingly.\n",
    "The final result is: the mean is 254.78 and the standard deviation is 684.74.\n"
   ]
  },
  {
   "cell_type": "code",
   "execution_count": 65,
   "metadata": {},
   "outputs": [],
   "source": [
    "pd.options.mode.chained_assignment = None\n",
    "import numpy as np"
   ]
  },
  {
   "cell_type": "code",
   "execution_count": 66,
   "metadata": {},
   "outputs": [],
   "source": [
    "df_ca = pd.read_csv(\"./calendar.csv\")\n",
    "df1 = df_ca.copy()\n",
    "df1[\"date\"]=pd.to_datetime(df1[\"date\"])"
   ]
  },
  {
   "cell_type": "code",
   "execution_count": 48,
   "metadata": {
    "scrolled": true
   },
   "outputs": [
    {
     "data": {
      "text/plain": [
       "(254.77822712824755, 684.741767482515)"
      ]
     },
     "execution_count": 48,
     "metadata": {},
     "output_type": "execute_result"
    }
   ],
   "source": [
    "\n",
    "df2 = df1.loc[(df1.date >= pd.Timestamp(2020,1,1,0))&(df1.date <= pd.Timestamp(2020,3,1,0))& (df5.available=='t'), :]\n",
    "df2.sort_values(by = [\"listing_id\",\"date\"],inplace=True, ascending = [True,True])\n",
    "df2.reset_index(drop=True, inplace=True)\n",
    "\n",
    "df2[\"price\"] = df2[\"price\"].apply(lambda x: str(x))\n",
    "df2[\"price\"] = df2[\"price\"].apply(lambda x: x.strip(\"$\").replace(\",\",\"\"))\n",
    "df2[\"price\"] = df2[\"price\"].apply(lambda x: float(x))\n",
    "df_los = df2.groupby(by=[\"listing_id\"]).apply(lambda x: pd.Series\\\n",
    "                                              ({\"price_mean\":np.mean(x[\"price\"])}))\n",
    "\n",
    "np.mean(df_los[\"price_mean\"]),np.std(df_los[\"price_mean\"])\n"
   ]
  },
  {
   "cell_type": "markdown",
   "metadata": {},
   "source": [
    "### Question 7: For reviews that are written in Jan, 2016, what are the most popular ten words except stopping words? What about reviews written in March, 2017 and April, 2018?\n",
    "**Hint**: You need to use NTLK stopping words to find the stopping words in Python. You also need to remove punctuation and numbers\n",
    "\n",
    "**Question 7 Answer:**\n",
    "\n",
    "For reviews that were written in Jan, 2016. The top ten words are \"great\", \"stay\", \"place\", \"clean\", \"location\", \"house\", \"us\", \"nice\", \"would\", and \"host\".\n",
    "For reviews that were written in May, 2017. The top ten words are \"great\", \"place\", \"stay\", \"location\", \"clean\", \"nice\", \"would\", \"host\", \"house\", and \"comfortable\".\n",
    "For reviews that were written in April, 2018. The top ten words are \"great\", \"place\", \"stay\", \"location\", \"clean\", \"would\", \"nice\", \"host\", \"house\", and \"la\"."
   ]
  },
  {
   "cell_type": "code",
   "execution_count": 42,
   "metadata": {},
   "outputs": [],
   "source": [
    "df_re = pd.read_csv(\"./reviews.csv\")"
   ]
  },
  {
   "cell_type": "code",
   "execution_count": 44,
   "metadata": {},
   "outputs": [
    {
     "data": {
      "text/html": [
       "<div>\n",
       "<style scoped>\n",
       "    .dataframe tbody tr th:only-of-type {\n",
       "        vertical-align: middle;\n",
       "    }\n",
       "\n",
       "    .dataframe tbody tr th {\n",
       "        vertical-align: top;\n",
       "    }\n",
       "\n",
       "    .dataframe thead th {\n",
       "        text-align: right;\n",
       "    }\n",
       "</style>\n",
       "<table border=\"1\" class=\"dataframe\">\n",
       "  <thead>\n",
       "    <tr style=\"text-align: right;\">\n",
       "      <th></th>\n",
       "      <th>Word</th>\n",
       "      <th>Count</th>\n",
       "    </tr>\n",
       "  </thead>\n",
       "  <tbody>\n",
       "    <tr>\n",
       "      <th>0</th>\n",
       "      <td>great</td>\n",
       "      <td>5380</td>\n",
       "    </tr>\n",
       "    <tr>\n",
       "      <th>1</th>\n",
       "      <td>stay</td>\n",
       "      <td>4664</td>\n",
       "    </tr>\n",
       "    <tr>\n",
       "      <th>2</th>\n",
       "      <td>place</td>\n",
       "      <td>4288</td>\n",
       "    </tr>\n",
       "    <tr>\n",
       "      <th>3</th>\n",
       "      <td>clean</td>\n",
       "      <td>2721</td>\n",
       "    </tr>\n",
       "    <tr>\n",
       "      <th>4</th>\n",
       "      <td>location</td>\n",
       "      <td>2696</td>\n",
       "    </tr>\n",
       "    <tr>\n",
       "      <th>5</th>\n",
       "      <td>house</td>\n",
       "      <td>2643</td>\n",
       "    </tr>\n",
       "    <tr>\n",
       "      <th>6</th>\n",
       "      <td>us</td>\n",
       "      <td>2633</td>\n",
       "    </tr>\n",
       "    <tr>\n",
       "      <th>7</th>\n",
       "      <td>nice</td>\n",
       "      <td>2408</td>\n",
       "    </tr>\n",
       "    <tr>\n",
       "      <th>8</th>\n",
       "      <td>would</td>\n",
       "      <td>2390</td>\n",
       "    </tr>\n",
       "    <tr>\n",
       "      <th>9</th>\n",
       "      <td>host</td>\n",
       "      <td>2328</td>\n",
       "    </tr>\n",
       "  </tbody>\n",
       "</table>\n",
       "</div>"
      ],
      "text/plain": [
       "       Word  Count\n",
       "0     great   5380\n",
       "1      stay   4664\n",
       "2     place   4288\n",
       "3     clean   2721\n",
       "4  location   2696\n",
       "5     house   2643\n",
       "6        us   2633\n",
       "7      nice   2408\n",
       "8     would   2390\n",
       "9      host   2328"
      ]
     },
     "execution_count": 44,
     "metadata": {},
     "output_type": "execute_result"
    }
   ],
   "source": [
    "# Jan, 2016\n",
    "\n",
    "df31 = df_re.copy()\n",
    "df31[\"date\"]=pd.to_datetime(df31[\"date\"])\n",
    "\n",
    "df31 = df31.loc[(df31.date >= pd.Timestamp(2016,1,1,0))&(df31.date <= pd.Timestamp(2016,1,31,0)), :]\n",
    "df31.reset_index(drop=True, inplace=True)\n",
    "\n",
    "word_count = {}\n",
    "\n",
    "import nltk\n",
    "from nltk.corpus import stopwords\n",
    "stopwords = set(stopwords.words('english'))\n",
    "import string\n",
    "from string import digits\n",
    "\n",
    "df31[\"comments\"] = df31[\"comments\"].apply(lambda x: str(x))\n",
    "\n",
    "comments = df31[\"comments\"].values.tolist()\n",
    "for line in comments:\n",
    "    clean_line = line.lower().translate(str.maketrans('','',string.punctuation)).\\\n",
    "    translate(str.maketrans('', '', digits)).replace(\"\\n\",\"\")\n",
    "    for word in clean_line.split(\" \"):\n",
    "        word = word.strip(\" \")\n",
    "        if word not in word_count and word not in stopwords and word !='':\n",
    "            word_count[word]=1\n",
    "        if word in word_count:\n",
    "            word_count[word]+=1\n",
    "col1=[]\n",
    "col2=[]\n",
    "for i in word_count.keys():\n",
    "    col1.append(i)\n",
    "    col2.append(word_count[i])\n",
    "df_wd1 = pd.DataFrame(columns = [\"Word\",\"Count\"])\n",
    "df_wd1[\"Word\"]=col1\n",
    "df_wd1[\"Count\"]=col2\n",
    "df_wd1.sort_values(by=[\"Count\"],inplace=True,ascending=False)\n",
    "df_wd1.reset_index(drop=True, inplace=True)\n",
    "df_wd1.head(10)"
   ]
  },
  {
   "cell_type": "code",
   "execution_count": 45,
   "metadata": {},
   "outputs": [
    {
     "data": {
      "text/html": [
       "<div>\n",
       "<style scoped>\n",
       "    .dataframe tbody tr th:only-of-type {\n",
       "        vertical-align: middle;\n",
       "    }\n",
       "\n",
       "    .dataframe tbody tr th {\n",
       "        vertical-align: top;\n",
       "    }\n",
       "\n",
       "    .dataframe thead th {\n",
       "        text-align: right;\n",
       "    }\n",
       "</style>\n",
       "<table border=\"1\" class=\"dataframe\">\n",
       "  <thead>\n",
       "    <tr style=\"text-align: right;\">\n",
       "      <th></th>\n",
       "      <th>Word</th>\n",
       "      <th>Count</th>\n",
       "    </tr>\n",
       "  </thead>\n",
       "  <tbody>\n",
       "    <tr>\n",
       "      <th>0</th>\n",
       "      <td>great</td>\n",
       "      <td>12202</td>\n",
       "    </tr>\n",
       "    <tr>\n",
       "      <th>1</th>\n",
       "      <td>place</td>\n",
       "      <td>11539</td>\n",
       "    </tr>\n",
       "    <tr>\n",
       "      <th>2</th>\n",
       "      <td>stay</td>\n",
       "      <td>9463</td>\n",
       "    </tr>\n",
       "    <tr>\n",
       "      <th>3</th>\n",
       "      <td>location</td>\n",
       "      <td>5875</td>\n",
       "    </tr>\n",
       "    <tr>\n",
       "      <th>4</th>\n",
       "      <td>clean</td>\n",
       "      <td>5455</td>\n",
       "    </tr>\n",
       "    <tr>\n",
       "      <th>5</th>\n",
       "      <td>nice</td>\n",
       "      <td>4547</td>\n",
       "    </tr>\n",
       "    <tr>\n",
       "      <th>6</th>\n",
       "      <td>would</td>\n",
       "      <td>4544</td>\n",
       "    </tr>\n",
       "    <tr>\n",
       "      <th>7</th>\n",
       "      <td>host</td>\n",
       "      <td>4436</td>\n",
       "    </tr>\n",
       "    <tr>\n",
       "      <th>8</th>\n",
       "      <td>house</td>\n",
       "      <td>3779</td>\n",
       "    </tr>\n",
       "    <tr>\n",
       "      <th>9</th>\n",
       "      <td>comfortable</td>\n",
       "      <td>3762</td>\n",
       "    </tr>\n",
       "  </tbody>\n",
       "</table>\n",
       "</div>"
      ],
      "text/plain": [
       "          Word  Count\n",
       "0        great  12202\n",
       "1        place  11539\n",
       "2         stay   9463\n",
       "3     location   5875\n",
       "4        clean   5455\n",
       "5         nice   4547\n",
       "6        would   4544\n",
       "7         host   4436\n",
       "8        house   3779\n",
       "9  comfortable   3762"
      ]
     },
     "execution_count": 45,
     "metadata": {},
     "output_type": "execute_result"
    }
   ],
   "source": [
    "# March 2017\n",
    "df32 = df_re.copy()\n",
    "df32[\"date\"]=pd.to_datetime(df32[\"date\"])\n",
    "\n",
    "df32 = df32.loc[(df32.date >= pd.Timestamp(2017,3,1,0))&(df32.date <= pd.Timestamp(2017,3,31,0)), :]\n",
    "df32.reset_index(drop=True, inplace=True)\n",
    "\n",
    "word_count = {}\n",
    "\n",
    "df32[\"comments\"] = df32[\"comments\"].apply(lambda x: str(x))\n",
    "comments = df32[\"comments\"].values.tolist()\n",
    "for line in comments:\n",
    "    clean_line = line.lower().translate(str.maketrans('','',string.punctuation)).\\\n",
    "    translate(str.maketrans('', '', digits)).replace(\"\\n\",\"\")\n",
    "    for word in clean_line.split(\" \"):\n",
    "        word = word.strip(\" \")\n",
    "        if word not in word_count and word not in stopwords and word !='':\n",
    "            word_count[word]=1\n",
    "        if word in word_count:\n",
    "            word_count[word]+=1\n",
    "col1=[]\n",
    "col2=[]\n",
    "for i in word_count.keys():\n",
    "    col1.append(i)\n",
    "    col2.append(word_count[i])\n",
    "df_wd2 = pd.DataFrame(columns = [\"Word\",\"Count\"])\n",
    "df_wd2[\"Word\"]=col1\n",
    "df_wd2[\"Count\"]=col2\n",
    "df_wd2.sort_values(by=[\"Count\"],inplace=True,ascending=False)\n",
    "df_wd2.reset_index(drop=True, inplace=True)\n",
    "df_wd2.head(10)"
   ]
  },
  {
   "cell_type": "code",
   "execution_count": 46,
   "metadata": {},
   "outputs": [
    {
     "data": {
      "text/html": [
       "<div>\n",
       "<style scoped>\n",
       "    .dataframe tbody tr th:only-of-type {\n",
       "        vertical-align: middle;\n",
       "    }\n",
       "\n",
       "    .dataframe tbody tr th {\n",
       "        vertical-align: top;\n",
       "    }\n",
       "\n",
       "    .dataframe thead th {\n",
       "        text-align: right;\n",
       "    }\n",
       "</style>\n",
       "<table border=\"1\" class=\"dataframe\">\n",
       "  <thead>\n",
       "    <tr style=\"text-align: right;\">\n",
       "      <th></th>\n",
       "      <th>Word</th>\n",
       "      <th>Count</th>\n",
       "    </tr>\n",
       "  </thead>\n",
       "  <tbody>\n",
       "    <tr>\n",
       "      <th>0</th>\n",
       "      <td>great</td>\n",
       "      <td>18844</td>\n",
       "    </tr>\n",
       "    <tr>\n",
       "      <th>1</th>\n",
       "      <td>place</td>\n",
       "      <td>18665</td>\n",
       "    </tr>\n",
       "    <tr>\n",
       "      <th>2</th>\n",
       "      <td>stay</td>\n",
       "      <td>14746</td>\n",
       "    </tr>\n",
       "    <tr>\n",
       "      <th>3</th>\n",
       "      <td>location</td>\n",
       "      <td>10011</td>\n",
       "    </tr>\n",
       "    <tr>\n",
       "      <th>4</th>\n",
       "      <td>clean</td>\n",
       "      <td>9051</td>\n",
       "    </tr>\n",
       "    <tr>\n",
       "      <th>5</th>\n",
       "      <td>would</td>\n",
       "      <td>7328</td>\n",
       "    </tr>\n",
       "    <tr>\n",
       "      <th>6</th>\n",
       "      <td>nice</td>\n",
       "      <td>6807</td>\n",
       "    </tr>\n",
       "    <tr>\n",
       "      <th>7</th>\n",
       "      <td>host</td>\n",
       "      <td>6800</td>\n",
       "    </tr>\n",
       "    <tr>\n",
       "      <th>8</th>\n",
       "      <td>house</td>\n",
       "      <td>5523</td>\n",
       "    </tr>\n",
       "    <tr>\n",
       "      <th>9</th>\n",
       "      <td>la</td>\n",
       "      <td>5511</td>\n",
       "    </tr>\n",
       "  </tbody>\n",
       "</table>\n",
       "</div>"
      ],
      "text/plain": [
       "       Word  Count\n",
       "0     great  18844\n",
       "1     place  18665\n",
       "2      stay  14746\n",
       "3  location  10011\n",
       "4     clean   9051\n",
       "5     would   7328\n",
       "6      nice   6807\n",
       "7      host   6800\n",
       "8     house   5523\n",
       "9        la   5511"
      ]
     },
     "execution_count": 46,
     "metadata": {},
     "output_type": "execute_result"
    }
   ],
   "source": [
    "# April 2018\n",
    "df33 = df_re.copy()\n",
    "df33[\"date\"]=pd.to_datetime(df33[\"date\"])\n",
    "\n",
    "df33 = df33.loc[(df33.date >= pd.Timestamp(2018,4,1,0))&(df33.date <= pd.Timestamp(2018,4,30,0)), :]\n",
    "df33.reset_index(drop=True, inplace=True)\n",
    "\n",
    "word_count = {}\n",
    "\n",
    "df33[\"comments\"] = df33[\"comments\"].apply(lambda x: str(x))\n",
    "\n",
    "comments = df33[\"comments\"].values.tolist()\n",
    "for line in comments:\n",
    "    clean_line = line.lower().translate(str.maketrans('','',string.punctuation)).\\\n",
    "    translate(str.maketrans('', '', digits)).replace(\"\\n\",\"\")\n",
    "    for word in clean_line.split(\" \"):\n",
    "        word = word.strip(\" \")\n",
    "        if word not in word_count and word not in stopwords and word !='':\n",
    "            word_count[word]=1\n",
    "        if word in word_count:\n",
    "            word_count[word]+=1\n",
    "col1=[]\n",
    "col2=[]\n",
    "for i in word_count.keys():\n",
    "    col1.append(i)\n",
    "    col2.append(word_count[i])\n",
    "df_wd3 = pd.DataFrame(columns = [\"Word\",\"Count\"])\n",
    "df_wd3[\"Word\"]=col1\n",
    "df_wd3[\"Count\"]=col2\n",
    "df_wd3.sort_values(by=[\"Count\"],inplace=True,ascending=False)\n",
    "df_wd3.reset_index(drop=True, inplace=True)\n",
    "df_wd3.head(10)"
   ]
  },
  {
   "cell_type": "markdown",
   "metadata": {},
   "source": [
    "### Question 8: Which five zipcode has the highest average listing price and has at least 30 listings (again only considering available dates) between 2020-01-01 to 2020-02-01 (inclusive)? What are these listing prices? What are the number of active listings and number of hosts in these top five zipcodes (a listing is active if it has at least one available date in the calendar data)?\n",
    "\n",
    "**Question 8 Answer:**\n",
    "\n",
    "These 5 zipcodes are 90210, 90077, 90265, 90069, and 91436. \n",
    "The corresponding average listing prices are 1963.56, 1909.07, 1559.61, 998.11, and 742.66 respectively.\n",
    "The number of active listings are 346, 92, 412, 563, and 59. The number of hosts are 262, 68, 321, 473, and 51."
   ]
  },
  {
   "cell_type": "code",
   "execution_count": 67,
   "metadata": {},
   "outputs": [],
   "source": [
    "df4 = df_ca.copy()\n",
    "df4[\"date\"]=pd.to_datetime(df4[\"date\"])\n",
    "\n",
    "#convert the \"price\" data\n",
    "df4[\"price\"] = df4[\"price\"].apply(lambda x: str(x))\n",
    "df4[\"price\"] = df4[\"price\"].apply(lambda x: x.strip(\"$\").replace(\",\",\"\"))\n",
    "df4[\"price\"] = df4[\"price\"].apply(lambda x: float(x))\n",
    "\n",
    "#add \"zipcode\" and \"host_id\" to the calendar dataset\n",
    "df_zip = df.loc[:,[\"id\",\"host_id\",\"zipcode\"]]\n",
    "df4 = df4.merge(df_zip, how=\"left\", left_on=\"listing_id\",right_on=\"id\")\n"
   ]
  },
  {
   "cell_type": "code",
   "execution_count": 68,
   "metadata": {},
   "outputs": [],
   "source": [
    "df41 = df4.loc[:,[\"zipcode\",\"listing_id\",\"host_id\",\"price\"]]\n",
    "\n",
    "df42 = df4.loc[(df4.date >= pd.Timestamp(2020,1,1,0))&(df4.date <= pd.Timestamp(2020,2,1,0))\\\n",
    "               & (df4.available=='t'), :]\n",
    "df42.reset_index(drop=True, inplace=True)\n",
    "\n",
    "df_30 = df42.groupby(by=[\"zipcode\"]).filter(lambda x: x[\"listing_id\"].nunique()>=30)"
   ]
  },
  {
   "cell_type": "code",
   "execution_count": 86,
   "metadata": {},
   "outputs": [
    {
     "data": {
      "text/html": [
       "<div>\n",
       "<style scoped>\n",
       "    .dataframe tbody tr th:only-of-type {\n",
       "        vertical-align: middle;\n",
       "    }\n",
       "\n",
       "    .dataframe tbody tr th {\n",
       "        vertical-align: top;\n",
       "    }\n",
       "\n",
       "    .dataframe thead th {\n",
       "        text-align: right;\n",
       "    }\n",
       "</style>\n",
       "<table border=\"1\" class=\"dataframe\">\n",
       "  <thead>\n",
       "    <tr style=\"text-align: right;\">\n",
       "      <th></th>\n",
       "      <th>zipcode</th>\n",
       "      <th>Avg_Price</th>\n",
       "    </tr>\n",
       "  </thead>\n",
       "  <tbody>\n",
       "    <tr>\n",
       "      <th>0</th>\n",
       "      <td>90210</td>\n",
       "      <td>1963.557367</td>\n",
       "    </tr>\n",
       "    <tr>\n",
       "      <th>1</th>\n",
       "      <td>90077</td>\n",
       "      <td>1909.066130</td>\n",
       "    </tr>\n",
       "    <tr>\n",
       "      <th>2</th>\n",
       "      <td>90265</td>\n",
       "      <td>1559.605010</td>\n",
       "    </tr>\n",
       "    <tr>\n",
       "      <th>3</th>\n",
       "      <td>90069</td>\n",
       "      <td>998.113153</td>\n",
       "    </tr>\n",
       "    <tr>\n",
       "      <th>4</th>\n",
       "      <td>91436</td>\n",
       "      <td>742.660019</td>\n",
       "    </tr>\n",
       "  </tbody>\n",
       "</table>\n",
       "</div>"
      ],
      "text/plain": [
       "  zipcode    Avg_Price\n",
       "0   90210  1963.557367\n",
       "1   90077  1909.066130\n",
       "2   90265  1559.605010\n",
       "3   90069   998.113153\n",
       "4   91436   742.660019"
      ]
     },
     "execution_count": 86,
     "metadata": {},
     "output_type": "execute_result"
    }
   ],
   "source": [
    "# Average Price\n",
    "from pandasql import sqldf\n",
    "df_5_zipcode = sqldf(\"SELECT zipcode, avg(price) as Avg_Price FROM df_30 GROUP BY zipcode ORDER BY Avg_Price desc LIMIT 5;\")\n",
    "df_5_zipcode"
   ]
  },
  {
   "cell_type": "code",
   "execution_count": 87,
   "metadata": {},
   "outputs": [
    {
     "data": {
      "text/html": [
       "<div>\n",
       "<style scoped>\n",
       "    .dataframe tbody tr th:only-of-type {\n",
       "        vertical-align: middle;\n",
       "    }\n",
       "\n",
       "    .dataframe tbody tr th {\n",
       "        vertical-align: top;\n",
       "    }\n",
       "\n",
       "    .dataframe thead th {\n",
       "        text-align: right;\n",
       "    }\n",
       "</style>\n",
       "<table border=\"1\" class=\"dataframe\">\n",
       "  <thead>\n",
       "    <tr style=\"text-align: right;\">\n",
       "      <th></th>\n",
       "      <th>zipcode</th>\n",
       "      <th>active_listing</th>\n",
       "    </tr>\n",
       "  </thead>\n",
       "  <tbody>\n",
       "    <tr>\n",
       "      <th>0</th>\n",
       "      <td>90069</td>\n",
       "      <td>563</td>\n",
       "    </tr>\n",
       "    <tr>\n",
       "      <th>1</th>\n",
       "      <td>90077</td>\n",
       "      <td>92</td>\n",
       "    </tr>\n",
       "    <tr>\n",
       "      <th>2</th>\n",
       "      <td>90210</td>\n",
       "      <td>346</td>\n",
       "    </tr>\n",
       "    <tr>\n",
       "      <th>3</th>\n",
       "      <td>90265</td>\n",
       "      <td>412</td>\n",
       "    </tr>\n",
       "    <tr>\n",
       "      <th>4</th>\n",
       "      <td>91436</td>\n",
       "      <td>59</td>\n",
       "    </tr>\n",
       "  </tbody>\n",
       "</table>\n",
       "</div>"
      ],
      "text/plain": [
       "  zipcode  active_listing\n",
       "0   90069             563\n",
       "1   90077              92\n",
       "2   90210             346\n",
       "3   90265             412\n",
       "4   91436              59"
      ]
     },
     "execution_count": 87,
     "metadata": {},
     "output_type": "execute_result"
    }
   ],
   "source": [
    "# Number of active listings\n",
    "df_active_listing = df4.loc[df4.available=='t', :]\n",
    "\n",
    "sqldf(\"SELECT zipcode, count(distinct id) as active_listing FROM df_active_listing \\\n",
    "WHERE zipcode in (SELECT zipcode FROM df_5_zipcode) GROUP BY zipcode\")\n"
   ]
  },
  {
   "cell_type": "code",
   "execution_count": 88,
   "metadata": {},
   "outputs": [
    {
     "data": {
      "text/html": [
       "<div>\n",
       "<style scoped>\n",
       "    .dataframe tbody tr th:only-of-type {\n",
       "        vertical-align: middle;\n",
       "    }\n",
       "\n",
       "    .dataframe tbody tr th {\n",
       "        vertical-align: top;\n",
       "    }\n",
       "\n",
       "    .dataframe thead th {\n",
       "        text-align: right;\n",
       "    }\n",
       "</style>\n",
       "<table border=\"1\" class=\"dataframe\">\n",
       "  <thead>\n",
       "    <tr style=\"text-align: right;\">\n",
       "      <th></th>\n",
       "      <th>zipcode</th>\n",
       "      <th>host_id_num</th>\n",
       "    </tr>\n",
       "  </thead>\n",
       "  <tbody>\n",
       "    <tr>\n",
       "      <th>0</th>\n",
       "      <td>90069</td>\n",
       "      <td>473</td>\n",
       "    </tr>\n",
       "    <tr>\n",
       "      <th>1</th>\n",
       "      <td>90077</td>\n",
       "      <td>68</td>\n",
       "    </tr>\n",
       "    <tr>\n",
       "      <th>2</th>\n",
       "      <td>90210</td>\n",
       "      <td>262</td>\n",
       "    </tr>\n",
       "    <tr>\n",
       "      <th>3</th>\n",
       "      <td>90265</td>\n",
       "      <td>321</td>\n",
       "    </tr>\n",
       "    <tr>\n",
       "      <th>4</th>\n",
       "      <td>91436</td>\n",
       "      <td>51</td>\n",
       "    </tr>\n",
       "  </tbody>\n",
       "</table>\n",
       "</div>"
      ],
      "text/plain": [
       "  zipcode  host_id_num\n",
       "0   90069          473\n",
       "1   90077           68\n",
       "2   90210          262\n",
       "3   90265          321\n",
       "4   91436           51"
      ]
     },
     "execution_count": 88,
     "metadata": {},
     "output_type": "execute_result"
    }
   ],
   "source": [
    "# Number of hosts\n",
    "sqldf(\"SELECT zipcode, count(distinct host_id) as host_id_num FROM df WHERE zipcode in \\\n",
    "(SELECT zipcode FROM df_5_zipcode) GROUP BY zipcode\")"
   ]
  },
  {
   "cell_type": "markdown",
   "metadata": {},
   "source": [
    "### Question 9: Focusing on the data from 2020-01-01 to 2020-04-01 (inclusive), what are five zipcodes that have at least 30 listings and have the largest absolute difference between the average prices on weekends versus the average prices on weekdays? (Weekends = Saturday and Sunday). Please give the zipcodes as well as the listing prices\n",
    "**Question 9 Answer:**\n",
    "\n",
    "Here we are focusing on the data between the dates only. Therefore, unlike question 8 where we might use the entire dataset to calculate the number of hosts. In this question, we only use the data that's within the time zones. The 5 zipcodes that have the largest absolute difference are 90265, 91325, 91436, 90293, and 90048. The listing prices on both Weekdays and Weekends, and the difference between those two are shown as below."
   ]
  },
  {
   "cell_type": "code",
   "execution_count": 6,
   "metadata": {},
   "outputs": [],
   "source": [
    "df5 = df_ca.copy()\n",
    "df5[\"date\"]=pd.to_datetime(df5[\"date\"])\n",
    "df5[\"price\"] = df5[\"price\"].apply(lambda x: str(x))\n",
    "df5[\"price\"] = df5[\"price\"].apply(lambda x: x.strip(\"$\").replace(\",\",\"\"))\n",
    "df5[\"price\"] = df5[\"price\"].apply(lambda x: float(x))\n"
   ]
  },
  {
   "cell_type": "code",
   "execution_count": 7,
   "metadata": {},
   "outputs": [],
   "source": [
    "df51 = df5.loc[(df5.date >= pd.Timestamp(2020,1,1,0))&(df5.date <= pd.Timestamp(2020,4,1,0))\\\n",
    "               & (df5.available=='t'), :]\n",
    "df51[\"DayOfWeek\"]=df51.date.dt.weekday_name\n",
    "df51 = df51[[\"listing_id\",\"price\",\"DayOfWeek\"]]\n",
    "df51 = df51.merge(df_zip, how=\"left\", left_on=\"listing_id\",right_on=\"id\")\n",
    "df51 = df51[[\"listing_id\",\"price\",\"DayOfWeek\",\"zipcode\"]]"
   ]
  },
  {
   "cell_type": "code",
   "execution_count": 8,
   "metadata": {},
   "outputs": [],
   "source": [
    "df_30again = df51.groupby(by=[\"zipcode\"]).filter(lambda x: x[\"listing_id\"].nunique()>=30)\n"
   ]
  },
  {
   "cell_type": "code",
   "execution_count": 5,
   "metadata": {},
   "outputs": [],
   "source": [
    "from pandasql import sqldf"
   ]
  },
  {
   "cell_type": "code",
   "execution_count": 9,
   "metadata": {},
   "outputs": [],
   "source": [
    "df_weekday = sqldf(\"SELECT zipcode,listing_id, price, DayOfWeek from df_30again \\\n",
    "WHERE DayOfWeek!='Saturday' and DayOfWeek!='Sunday'\")\n",
    "df_weekend = sqldf(\"SELECT zipcode, listing_id, price, DayOfWeek from df_30again \\\n",
    "WHERE DayOfWeek='Saturday' or DayOfWeek='Sunday'\")\n"
   ]
  },
  {
   "cell_type": "code",
   "execution_count": 11,
   "metadata": {},
   "outputs": [],
   "source": [
    "df_wd= sqldf(\"SELECT zipcode, avg(price) as Avg_wd_price FROM df_weekday GROUP BY zipcode\")"
   ]
  },
  {
   "cell_type": "code",
   "execution_count": 12,
   "metadata": {},
   "outputs": [],
   "source": [
    "df_we= sqldf(\"SELECT zipcode, avg(price) as Avg_we_price FROM df_weekend GROUP BY zipcode\")"
   ]
  },
  {
   "cell_type": "code",
   "execution_count": 16,
   "metadata": {},
   "outputs": [],
   "source": [
    "df_all = sqldf(\"SELECT A.zipcode,Avg_wd_price,Avg_we_price FROM df_wd AS A \\\n",
    "JOIN df_we AS B ON A.zipcode=B.zipcode\")\n"
   ]
  },
  {
   "cell_type": "code",
   "execution_count": 47,
   "metadata": {},
   "outputs": [
    {
     "data": {
      "text/html": [
       "<div>\n",
       "<style scoped>\n",
       "    .dataframe tbody tr th:only-of-type {\n",
       "        vertical-align: middle;\n",
       "    }\n",
       "\n",
       "    .dataframe tbody tr th {\n",
       "        vertical-align: top;\n",
       "    }\n",
       "\n",
       "    .dataframe thead th {\n",
       "        text-align: right;\n",
       "    }\n",
       "</style>\n",
       "<table border=\"1\" class=\"dataframe\">\n",
       "  <thead>\n",
       "    <tr style=\"text-align: right;\">\n",
       "      <th></th>\n",
       "      <th>zipcode</th>\n",
       "      <th>Avg_wd_price</th>\n",
       "      <th>Avg_we_price</th>\n",
       "      <th>difference</th>\n",
       "    </tr>\n",
       "  </thead>\n",
       "  <tbody>\n",
       "    <tr>\n",
       "      <th>0</th>\n",
       "      <td>90265</td>\n",
       "      <td>1559.885295</td>\n",
       "      <td>1584.619098</td>\n",
       "      <td>24.733803</td>\n",
       "    </tr>\n",
       "    <tr>\n",
       "      <th>1</th>\n",
       "      <td>91325</td>\n",
       "      <td>303.016354</td>\n",
       "      <td>318.357696</td>\n",
       "      <td>15.341341</td>\n",
       "    </tr>\n",
       "    <tr>\n",
       "      <th>2</th>\n",
       "      <td>91436</td>\n",
       "      <td>704.748236</td>\n",
       "      <td>717.131461</td>\n",
       "      <td>12.383224</td>\n",
       "    </tr>\n",
       "    <tr>\n",
       "      <th>3</th>\n",
       "      <td>90293</td>\n",
       "      <td>274.940936</td>\n",
       "      <td>286.859906</td>\n",
       "      <td>11.918970</td>\n",
       "    </tr>\n",
       "    <tr>\n",
       "      <th>4</th>\n",
       "      <td>90048</td>\n",
       "      <td>415.569997</td>\n",
       "      <td>426.101584</td>\n",
       "      <td>10.531587</td>\n",
       "    </tr>\n",
       "  </tbody>\n",
       "</table>\n",
       "</div>"
      ],
      "text/plain": [
       "  zipcode  Avg_wd_price  Avg_we_price  difference\n",
       "0   90265   1559.885295   1584.619098   24.733803\n",
       "1   91325    303.016354    318.357696   15.341341\n",
       "2   91436    704.748236    717.131461   12.383224\n",
       "3   90293    274.940936    286.859906   11.918970\n",
       "4   90048    415.569997    426.101584   10.531587"
      ]
     },
     "execution_count": 47,
     "metadata": {},
     "output_type": "execute_result"
    }
   ],
   "source": [
    "df_all[\"difference\"] = (df_all[\"Avg_wd_price\"] - df_all[\"Avg_we_price\"] ).abs()\n",
    "df_all.sort_values(by=\"difference\",ascending=False).reset_index(drop=True).head(5)"
   ]
  },
  {
   "cell_type": "markdown",
   "metadata": {},
   "source": [
    "### Question 10: What is the average and standard deviation of the daily total capacity at Airbnb Los Angeles from 2020-01-01 to 2020-04-01? The daily total capacity in a day is the number of beds that are available in that given date. What is the average and standard deviation of the daily price per bed at Airbnb Los Angeles from 2020-01-01 to 2020-04-01?\n",
    "**Question 10 Answer:**\n",
    "\n",
    "The mean and standard deviation of the daily total capacity are 47091.65 and 4894.02.\n",
    "The mean and standard deviation of the daily price per bed are 124.06 and 5.60."
   ]
  },
  {
   "cell_type": "code",
   "execution_count": 23,
   "metadata": {},
   "outputs": [],
   "source": [
    "df6 = df_ca.copy()\n",
    "df6[\"date\"]=pd.to_datetime(df6[\"date\"])\n",
    "df6[\"price\"] = df6[\"price\"].apply(lambda x: str(x))\n",
    "df6[\"price\"] = df6[\"price\"].apply(lambda x: x.strip(\"$\").replace(\",\",\"\"))\n",
    "df6[\"price\"] = df6[\"price\"].apply(lambda x: float(x))"
   ]
  },
  {
   "cell_type": "code",
   "execution_count": 28,
   "metadata": {},
   "outputs": [],
   "source": [
    "df61 = df6.loc[(df6.date >= pd.Timestamp(2020,1,1,0))&(df5.date < pd.Timestamp(2020,4,1,0))\\\n",
    "               & (df6.available=='t'), :]\n",
    "df_bed = df[[\"id\",\"beds\"]]\n",
    "df61 = df61.merge(df_bed, how=\"left\", left_on=\"listing_id\",right_on=\"id\")\n",
    "df61 = df61[[\"listing_id\",\"date\",\"price\",\"beds\"]]\n"
   ]
  },
  {
   "cell_type": "code",
   "execution_count": 50,
   "metadata": {},
   "outputs": [
    {
     "data": {
      "text/plain": [
       "(47091.64835164835, 4894.024846179753)"
      ]
     },
     "execution_count": 50,
     "metadata": {},
     "output_type": "execute_result"
    }
   ],
   "source": [
    "df_capacity = sqldf(\"SELECT date, sum(beds) as Total_capacity, sum(price) as Total_price FROM df61 GROUP BY date\")\n",
    "\n",
    "np.mean(df_capacity[\"Total_capacity\"]),np.std(df_capacity[\"Total_capacity\"])"
   ]
  },
  {
   "cell_type": "code",
   "execution_count": 37,
   "metadata": {},
   "outputs": [
    {
     "data": {
      "text/plain": [
       "(124.06037237364912, 5.602549542378102)"
      ]
     },
     "execution_count": 37,
     "metadata": {},
     "output_type": "execute_result"
    }
   ],
   "source": [
    "df_daily = sqldf(\"SELECT date, (Total_price/Total_capacity) as daily_price FROM df_capacity\")\n",
    "\n",
    "np.mean(df_daily[\"daily_price\"]),np.std(df_daily[\"daily_price\"])"
   ]
  },
  {
   "cell_type": "markdown",
   "metadata": {},
   "source": [
    "## Part 2 (15 Points):\n",
    "\n",
    "In this part, you need to find **5** interesting business questions out of the datasets. You then need to write Python code to answer the questions. Last, you need to write a 200-word summary of your answers and business insights you get from ansewr these 5 questions baed on your code. You will be evaluated based on the following criterion:\n",
    "\n",
    "1. You need to ask three business-relevant questions (2 points)\n",
    "2. You need to answer these three questions using Python and the datasets (1 points)\n",
    "3. You have at least **5** graphs to visualize your insights (2 points)\n",
    "4. Your executive summary of your answers are well-written and make sense (5 points)\n",
    "5. Your business insights are very interesting and the report is creative (5 points)\n"
   ]
  },
  {
   "cell_type": "markdown",
   "metadata": {},
   "source": [
    "**(You need to use this cell to write your 5 questions)**\n",
    "\n",
    "**Question 1:**\n",
    "What are the top 20 used amenities in all houses in the dataset? (You may use the amenities column) Please also use a bar chart to visulize it. \n",
    "\n",
    "**Question 2:**\n",
    "Use scatter plot to see if there is a pattern between number of reviews of a host and the review score rating of a host. \n",
    "\n",
    "**Question 3:**\n",
    "Does the minimum amount of booking affect the vacancy rate of each house? You should label the houses with minimum_night less than 10 as Low, within the range of 11-31 as middle, and over 31 as high.  \n",
    "\n",
    "**Question 4:**\n",
    "Plot a graph to show the numbers of each cancellation policy for all the hosts. Which kind of cancellation policy is most widely used by hosts?\n",
    "\n",
    "**Question 5:**\n",
    "What are the top 10 property type that have the highest reviews rating? Also, what are the proportion of each room type, and what are their ratings? Is there one room type has ratings significantly higher than others?\n",
    "\n"
   ]
  },
  {
   "cell_type": "code",
   "execution_count": 40,
   "metadata": {},
   "outputs": [
    {
     "data": {
      "text/plain": [
       "<matplotlib.axes._subplots.AxesSubplot at 0x1354c98d0>"
      ]
     },
     "execution_count": 40,
     "metadata": {},
     "output_type": "execute_result"
    },
    {
     "data": {
      "image/png": "[encoded data removed]",
      "text/plain": [
       "<Figure size 432x288 with 1 Axes>"
      ]
     },
     "metadata": {
      "needs_background": "light"
     },
     "output_type": "display_data"
    }
   ],
   "source": [
    "# Your code to answer Question 1\n",
    "from IPython.core.interactiveshell import InteractiveShell\n",
    "InteractiveShell.ast_node_interactivity = \"all\"\n",
    "\n",
    "%matplotlib inline\n",
    "\n",
    "a_type={}\n",
    "\n",
    "for n in (df[\"amenities\"]):\n",
    "    aa = n.strip('{}').split(',')\n",
    "    for i in aa:\n",
    "        ii=i.strip(' ').strip('\\\"')\n",
    "        if ii not in a_type:\n",
    "            a_type[ii]=1\n",
    "        else:\n",
    "            a_type[ii]+=1\n",
    "\n",
    "df1 = pd.DataFrame(sorted(a_type.items(),key = lambda item:item[1],reverse = True)[:20])\n",
    "df1.columns = ['Amenity','Frequency']\n",
    "\n",
    "df1[[\"Amenity\",\"Frequency\"]].plot(kind = \"bar\",x = \"Amenity\",y = \"Frequency\",color=\"orange\")"
   ]
  },
  {
   "cell_type": "code",
   "execution_count": 41,
   "metadata": {},
   "outputs": [
    {
     "data": {
      "text/plain": [
       "<matplotlib.image.AxesImage at 0x14dbcae80>"
      ]
     },
     "execution_count": 41,
     "metadata": {},
     "output_type": "execute_result"
    },
    {
     "data": {
      "text/plain": [
       "(-0.5, 399.5, 199.5, -0.5)"
      ]
     },
     "execution_count": 41,
     "metadata": {},
     "output_type": "execute_result"
    },
    {
     "data": {
      "image/png": "[encoded data removed]",
      "text/plain": [
       "<Figure size 432x288 with 1 Axes>"
      ]
     },
     "metadata": {
      "needs_background": "light"
     },
     "output_type": "display_data"
    }
   ],
   "source": [
    "#! pip install wordcloud\n",
    "import matplotlib.pyplot as plt\n",
    "from wordcloud import WordCloud\n",
    "\n",
    "my_wordcloud = WordCloud(background_color=\"white\").\\\n",
    "generate_from_frequencies(frequencies=a_type)\n",
    "\n",
    "plt.imshow(my_wordcloud, interpolation=\"bilinear\")\n",
    "plt.axis(\"off\")\n",
    "plt.show()"
   ]
  },
  {
   "cell_type": "code",
   "execution_count": 6,
   "metadata": {},
   "outputs": [
    {
     "data": {
      "text/plain": [
       "<matplotlib.axes._subplots.AxesSubplot at 0x12d57bac8>"
      ]
     },
     "execution_count": 6,
     "metadata": {},
     "output_type": "execute_result"
    },
    {
     "data": {
      "image/png": "[encoded data removed]",
      "text/plain": [
       "<Figure size 432x288 with 1 Axes>"
      ]
     },
     "metadata": {},
     "output_type": "display_data"
    }
   ],
   "source": [
    "# Your code to answer Question 2\n",
    "import pandas as pd\n",
    "import matplotlib.pyplot as plt\n",
    "plt.style.use(\"ggplot\")\n",
    "fig,ax = plt.subplots()\n",
    "df.plot(kind= \"scatter\", x = \"number_of_reviews\", y = \"review_scores_rating\", ax=ax)\n",
    "\n",
    "#There is a pattern between the number of reviews of a host and the review score rating of a host.\n",
    "#As the number of reviews increases, it is less likely that the scores rating might be low.\n",
    "#In other words, if the number of reviews is very low, the scores rating is more possible to be lower than average."
   ]
  },
  {
   "cell_type": "code",
   "execution_count": 36,
   "metadata": {},
   "outputs": [
    {
     "name": "stderr",
     "output_type": "stream",
     "text": [
      "/Users/alexa/anaconda3/lib/python3.7/site-packages/ipykernel_launcher.py:12: SettingWithCopyWarning: \n",
      "A value is trying to be set on a copy of a slice from a DataFrame.\n",
      "Try using .loc[row_indexer,col_indexer] = value instead\n",
      "\n",
      "See the caveats in the documentation: http://pandas.pydata.org/pandas-docs/stable/indexing.html#indexing-view-versus-copy\n",
      "  if sys.path[0] == '':\n"
     ]
    },
    {
     "data": {
      "text/html": [
       "<div>\n",
       "<style scoped>\n",
       "    .dataframe tbody tr th:only-of-type {\n",
       "        vertical-align: middle;\n",
       "    }\n",
       "\n",
       "    .dataframe tbody tr th {\n",
       "        vertical-align: top;\n",
       "    }\n",
       "\n",
       "    .dataframe thead th {\n",
       "        text-align: right;\n",
       "    }\n",
       "</style>\n",
       "<table border=\"1\" class=\"dataframe\">\n",
       "  <thead>\n",
       "    <tr style=\"text-align: right;\">\n",
       "      <th></th>\n",
       "      <th>availability_30</th>\n",
       "      <th>availability_60</th>\n",
       "      <th>availability_90</th>\n",
       "    </tr>\n",
       "    <tr>\n",
       "      <th>level_min_nights</th>\n",
       "      <th></th>\n",
       "      <th></th>\n",
       "      <th></th>\n",
       "    </tr>\n",
       "  </thead>\n",
       "  <tbody>\n",
       "    <tr>\n",
       "      <th>high</th>\n",
       "      <td>16.290389</td>\n",
       "      <td>35.903885</td>\n",
       "      <td>57.053170</td>\n",
       "    </tr>\n",
       "    <tr>\n",
       "      <th>low</th>\n",
       "      <td>12.402993</td>\n",
       "      <td>28.498871</td>\n",
       "      <td>46.147419</td>\n",
       "    </tr>\n",
       "    <tr>\n",
       "      <th>middle</th>\n",
       "      <td>11.947655</td>\n",
       "      <td>28.528313</td>\n",
       "      <td>47.586106</td>\n",
       "    </tr>\n",
       "  </tbody>\n",
       "</table>\n",
       "</div>"
      ],
      "text/plain": [
       "                  availability_30  availability_60  availability_90\n",
       "level_min_nights                                                   \n",
       "high                    16.290389        35.903885        57.053170\n",
       "low                     12.402993        28.498871        46.147419\n",
       "middle                  11.947655        28.528313        47.586106"
      ]
     },
     "execution_count": 36,
     "metadata": {},
     "output_type": "execute_result"
    },
    {
     "data": {
      "text/plain": [
       "(0, 50)"
      ]
     },
     "execution_count": 36,
     "metadata": {},
     "output_type": "execute_result"
    },
    {
     "data": {
      "text/plain": [
       "[<matplotlib.lines.Line2D at 0x12221a8d0>]"
      ]
     },
     "execution_count": 36,
     "metadata": {},
     "output_type": "execute_result"
    },
    {
     "data": {
      "text/plain": [
       "[<matplotlib.lines.Line2D at 0x12221a5c0>]"
      ]
     },
     "execution_count": 36,
     "metadata": {},
     "output_type": "execute_result"
    },
    {
     "data": {
      "text/plain": [
       "[<matplotlib.lines.Line2D at 0x144966390>]"
      ]
     },
     "execution_count": 36,
     "metadata": {},
     "output_type": "execute_result"
    },
    {
     "data": {
      "text/plain": [
       "[Text(0, 0.5, 'Availability'),\n",
       " Text(0.5, 0, 'Level of Minimum Nights'),\n",
       " Text(0.5, 1.0, 'The effect of Minimum Night Booking on Vacancy Rate')]"
      ]
     },
     "execution_count": 36,
     "metadata": {},
     "output_type": "execute_result"
    },
    {
     "data": {
      "text/plain": [
       "<matplotlib.legend.Legend at 0x12221aba8>"
      ]
     },
     "execution_count": 36,
     "metadata": {},
     "output_type": "execute_result"
    },
    {
     "data": {
      "text/plain": [
       "(<Figure size 432x288 with 1 Axes>,\n",
       " <matplotlib.axes._subplots.AxesSubplot at 0x14ca58358>)"
      ]
     },
     "execution_count": 36,
     "metadata": {},
     "output_type": "execute_result"
    },
    {
     "data": {
      "image/png": "[encoded data removed]",
      "text/plain": [
       "<Figure size 432x288 with 1 Axes>"
      ]
     },
     "metadata": {
      "needs_background": "light"
     },
     "output_type": "display_data"
    }
   ],
   "source": [
    "# Your code to answer Question 3\n",
    "import matplotlib.pyplot as plt\n",
    "\n",
    "new_df = df[[\"minimum_nights\",\"availability_30\",\"availability_60\",\"availability_90\"]]\n",
    "def level(nights):\n",
    "    if nights < 10:\n",
    "        return \"low\"\n",
    "    elif nights < 32:\n",
    "        return \"middle\"\n",
    "    else:\n",
    "        return \"high\"\n",
    "new_df[\"level_min_nights\"] = new_df.minimum_nights.apply(level)\n",
    "\n",
    "new_df.groupby(by = [\"level_min_nights\"])[\"availability_30\",\"availability_60\",\"availability_90\"].mean()\n",
    "\n",
    "fig,ax = plt.subplots()\n",
    "ax.set_xlim([0,50])\n",
    "\n",
    "x = list(new_df.index)\n",
    "ava_30 = list(new_df[\"availability_30\"])\n",
    "ava_60 = list(new_df[\"availability_60\"])\n",
    "ava_90 = list(new_df[\"availability_90\"])\n",
    "\n",
    "plt.plot(x,ava_30,\"x-\",label=\"availability_30\")\n",
    "plt.plot(x,ava_60,\"x-\",label=\"availability_60\")\n",
    "plt.plot(x,ava_90,\"x-\",label=\"availability_90\")\n",
    "\n",
    "ax.set(title = \"The effect of Minimum Night Booking on Vacancy Rate\",xlabel = \"Level of Minimum Nights\",\\\n",
    "       ylabel = \"Availability\")\n",
    "ax.legend(loc=0)\n",
    "fig,ax\n",
    "\n",
    "#The minimum amount of booking does not have evident affect on the vacancy rate of each house.\n",
    "#However, it seems like listings with a lower limit of booking nights (< 10) tends to have lower vacancy rate."
   ]
  },
  {
   "cell_type": "code",
   "execution_count": 9,
   "metadata": {},
   "outputs": [
    {
     "data": {
      "text/plain": [
       "array(['strict_14_with_grace_period', 'flexible', 'moderate',\n",
       "       'super_strict_30', 'strict', 'super_strict_60', 'luxury_moderate',\n",
       "       'luxury_super_strict_95', 'luxury_no_refund'], dtype=object)"
      ]
     },
     "execution_count": 9,
     "metadata": {},
     "output_type": "execute_result"
    },
    {
     "data": {
      "text/plain": [
       "{'strict_14_with_grace_period': 19305,\n",
       " 'flexible': 13168,\n",
       " 'moderate': 12038,\n",
       " 'super_strict_30': 10,\n",
       " 'strict': 197,\n",
       " 'super_strict_60': 213,\n",
       " 'luxury_moderate': 104,\n",
       " 'luxury_super_strict_95': 14,\n",
       " 'luxury_no_refund': 4}"
      ]
     },
     "execution_count": 9,
     "metadata": {},
     "output_type": "execute_result"
    },
    {
     "data": {
      "text/plain": [
       "[Text(0, 0.5, 'Type of Cancellation Policy'),\n",
       " Text(0.5, 0, 'number of hosts'),\n",
       " Text(0.5, 1.0, 'Number of Hosts for Each Cancellation Policy Type')]"
      ]
     },
     "execution_count": 9,
     "metadata": {},
     "output_type": "execute_result"
    },
    {
     "data": {
      "image/png": "[encoded data removed]",
      "text/plain": [
       "<Figure size 432x288 with 1 Axes>"
      ]
     },
     "metadata": {},
     "output_type": "display_data"
    }
   ],
   "source": [
    "# Your code to answer Question 4\n",
    "df[\"cancellation_policy\"].unique()\n",
    "dict={}\n",
    "dict['strict_14_with_grace_period']=0\n",
    "dict['flexible']=0\n",
    "dict['moderate']=0\n",
    "dict['super_strict_30']=0\n",
    "dict['strict']=0\n",
    "dict['super_strict_60']=0\n",
    "dict['luxury_moderate']=0\n",
    "dict['luxury_super_strict_95']=0\n",
    "dict['luxury_no_refund']=0\n",
    "for m in df[\"cancellation_policy\"]:\n",
    "    dict[m]+=1\n",
    "dict\n",
    "\n",
    "keys = []\n",
    "for key in dict.keys():\n",
    "    keys.append(key)\n",
    "values = []\n",
    "for value in dict.values():\n",
    "    values.append(value)\n",
    "\n",
    "data = {\"number_of_hosts\":values,\"policy_type\":keys}\n",
    "df_cp = pd.DataFrame(data)\n",
    "\n",
    "fig = df_cp.plot(kind= \"barh\", x = \"policy_type\", y = \"number_of_hosts\")\n",
    "fig.set(title = \"Number of Hosts for Each Cancellation Policy Type\", xlabel=\"number of hosts\", ylabel= \"Type of Cancellation Policy\")\n",
    "\n",
    "#Most hosts choose to use the cancellation policy of strict 14 with grace period, \n",
    "#there is also a large amount of hosts who choose flexible and moderate type of cancellation\n",
    "#polciy. However, little or no hosts choose luxury no refund, luxury super strict 95, \n",
    "#luxury moderate, super strict 60, strict and super strict 30"
   ]
  },
  {
   "cell_type": "code",
   "execution_count": 9,
   "metadata": {},
   "outputs": [
    {
     "data": {
      "text/html": [
       "<div>\n",
       "<style scoped>\n",
       "    .dataframe tbody tr th:only-of-type {\n",
       "        vertical-align: middle;\n",
       "    }\n",
       "\n",
       "    .dataframe tbody tr th {\n",
       "        vertical-align: top;\n",
       "    }\n",
       "\n",
       "    .dataframe thead th {\n",
       "        text-align: right;\n",
       "    }\n",
       "</style>\n",
       "<table border=\"1\" class=\"dataframe\">\n",
       "  <thead>\n",
       "    <tr style=\"text-align: right;\">\n",
       "      <th></th>\n",
       "      <th>review_scores_rating</th>\n",
       "    </tr>\n",
       "    <tr>\n",
       "      <th>property_type</th>\n",
       "      <th></th>\n",
       "    </tr>\n",
       "  </thead>\n",
       "  <tbody>\n",
       "    <tr>\n",
       "      <th>Bus</th>\n",
       "      <td>100.000000</td>\n",
       "    </tr>\n",
       "    <tr>\n",
       "      <th>Campsite</th>\n",
       "      <td>100.000000</td>\n",
       "    </tr>\n",
       "    <tr>\n",
       "      <th>Dome house</th>\n",
       "      <td>99.750000</td>\n",
       "    </tr>\n",
       "    <tr>\n",
       "      <th>Tipi</th>\n",
       "      <td>98.410467</td>\n",
       "    </tr>\n",
       "    <tr>\n",
       "      <th>Train</th>\n",
       "      <td>98.000000</td>\n",
       "    </tr>\n",
       "    <tr>\n",
       "      <th>Chalet</th>\n",
       "      <td>97.705233</td>\n",
       "    </tr>\n",
       "    <tr>\n",
       "      <th>Yurt</th>\n",
       "      <td>97.646280</td>\n",
       "    </tr>\n",
       "    <tr>\n",
       "      <th>Island</th>\n",
       "      <td>97.615700</td>\n",
       "    </tr>\n",
       "    <tr>\n",
       "      <th>Casa particular (Cuba)</th>\n",
       "      <td>97.615700</td>\n",
       "    </tr>\n",
       "    <tr>\n",
       "      <th>Castle</th>\n",
       "      <td>97.359045</td>\n",
       "    </tr>\n",
       "  </tbody>\n",
       "</table>\n",
       "</div>"
      ],
      "text/plain": [
       "                        review_scores_rating\n",
       "property_type                               \n",
       "Bus                               100.000000\n",
       "Campsite                          100.000000\n",
       "Dome house                         99.750000\n",
       "Tipi                               98.410467\n",
       "Train                              98.000000\n",
       "Chalet                             97.705233\n",
       "Yurt                               97.646280\n",
       "Island                             97.615700\n",
       "Casa particular (Cuba)             97.615700\n",
       "Castle                             97.359045"
      ]
     },
     "execution_count": 9,
     "metadata": {},
     "output_type": "execute_result"
    },
    {
     "data": {
      "text/html": [
       "<div>\n",
       "<style scoped>\n",
       "    .dataframe tbody tr th:only-of-type {\n",
       "        vertical-align: middle;\n",
       "    }\n",
       "\n",
       "    .dataframe tbody tr th {\n",
       "        vertical-align: top;\n",
       "    }\n",
       "\n",
       "    .dataframe thead th {\n",
       "        text-align: right;\n",
       "    }\n",
       "</style>\n",
       "<table border=\"1\" class=\"dataframe\">\n",
       "  <thead>\n",
       "    <tr style=\"text-align: right;\">\n",
       "      <th></th>\n",
       "      <th>review_scores_rating</th>\n",
       "    </tr>\n",
       "    <tr>\n",
       "      <th>room_type</th>\n",
       "      <th></th>\n",
       "    </tr>\n",
       "  </thead>\n",
       "  <tbody>\n",
       "    <tr>\n",
       "      <th>Private room</th>\n",
       "      <td>95.312621</td>\n",
       "    </tr>\n",
       "    <tr>\n",
       "      <th>Entire home/apt</th>\n",
       "      <td>95.288790</td>\n",
       "    </tr>\n",
       "    <tr>\n",
       "      <th>Shared room</th>\n",
       "      <td>92.350025</td>\n",
       "    </tr>\n",
       "    <tr>\n",
       "      <th>Hotel room</th>\n",
       "      <td>89.716646</td>\n",
       "    </tr>\n",
       "  </tbody>\n",
       "</table>\n",
       "</div>"
      ],
      "text/plain": [
       "                 review_scores_rating\n",
       "room_type                            \n",
       "Private room                95.312621\n",
       "Entire home/apt             95.288790\n",
       "Shared room                 92.350025\n",
       "Hotel room                  89.716646"
      ]
     },
     "execution_count": 9,
     "metadata": {},
     "output_type": "execute_result"
    }
   ],
   "source": [
    "# Your code to answer Question 5\n",
    "%matplotlib inline\n",
    "df_host = df.drop_duplicates(keep=\"first\",subset=[\"host_id\"])\n",
    "df_host = df_host[[\"property_type\",\"room_type\",\"review_scores_rating\",\"price\"]]\n",
    "# df_host.isnull().sum()\n",
    "mean_rating = df_host.review_scores_rating.mean()\n",
    "df_host.fillna({\"review_scores_rating\":mean_rating},inplace = True)\n",
    "\n",
    "sub_1 = pd.DataFrame(df_host.groupby(by = [\"property_type\"])[\"review_scores_rating\"].mean())\n",
    "sub_1 = sub_1.sort_values(by=\"review_scores_rating\" , ascending=False)[:10]\n",
    "sub_1\n",
    "\n",
    "sub_2= pd.DataFrame(df_host.groupby(by = [\"room_type\"])[\"review_scores_rating\"].mean())\n",
    "sub_2 = sub_2.sort_values(by=\"review_scores_rating\" , ascending=False)\n",
    "sub_2\n",
    "\n",
    "#The first form shows the top 10 ratings for different types of properties.\n",
    "#The second form shows the rating ranks for 4 room types."
   ]
  },
  {
   "cell_type": "markdown",
   "metadata": {},
   "source": [
    "## Executive Summary\n",
    "**(You need to use this cell to write your executive summary)**\n",
    "As 2019 is coming to a close, it is crucial for Airbnb to review what happened over the past year, thus better prepared for the future, especially, for the initial public Offering in 2020.\n",
    "In order to serve this goal, we analyzed the listings data in Los Angelos on 14 September 2019 and came up with several interesting findings. \n",
    "As for keywords in amenities, \"Wi-fi\", \"Essentials\", \"Smoke Detector\" were the top 3 included amenities in the listing. This reflects how technology, convenience, and safety play a role in people finding a living space.\n",
    "Besides, it has also been found that special types of housing are more likely to receive high review ratings, such as \"Bus\" and \"Campsite\", which both received 100% satisfaction. Perhaps it is because people are looking for housing that enables them to try special living styles, and Airbnb is the platform they would choose. In addition, nowadays people are more sensitive to have private space. It is supported that private room and entire home/apartment receive the highest ratings among all the room choices. \n",
    "In conclusion, Airbnb should encourage hosts to provide listings that are more creative, that is special, and that guarantees private space."
   ]
  }
 ],
 "metadata": {
  "kernelspec": {
   "display_name": "Python 3",
   "language": "python",
   "name": "python3"
  },
  "language_info": {
   "codemirror_mode": {
    "name": "ipython",
    "version": 3
   },
   "file_extension": ".py",
   "mimetype": "text/x-python",
   "name": "python",
   "nbconvert_exporter": "python",
   "pygments_lexer": "ipython3",
   "version": "3.7.3"
  }
 },
 "nbformat": 4,
 "nbformat_minor": 2
}
